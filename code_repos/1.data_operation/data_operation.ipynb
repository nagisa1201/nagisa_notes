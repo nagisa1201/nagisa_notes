{
 "cells": [
  {
   "cell_type": "code",
   "execution_count": 2,
   "id": "74e7b13c",
   "metadata": {},
   "outputs": [
    {
     "name": "stdout",
     "output_type": "stream",
     "text": [
      "tensor([[ 0,  1,  2,  3,  4,  5],\n",
      "        [ 6,  7,  8,  9, 10, 11]])\n",
      "tensor([ 0,  1,  2,  3,  4,  5,  6,  7,  8,  9, 10, 11])\n",
      "tensor([[ 0,  1,  2,  3],\n",
      "        [ 4,  5,  6,  7],\n",
      "        [ 8,  9, 10, 11]])\n"
     ]
    }
   ],
   "source": [
    "import torch \n",
    "x = torch.arange(12)  # arange方法可以创建一个行向量x\n",
    "#shape属性来访问张量（沿每个轴的长度）的形状\n",
    "x.shape  # 输出：torch.Size([12])\n",
    "x.numel() #输出：12，numel方法返回张量的元素总数\n",
    "X = x.reshape(3, 4)  # reshape方法将x重塑为3行4列的矩阵,且可以通过-1来调用此自动计算出维度的功能\n",
    "X1 = x.reshape(2, -1)  # -1表示自动计算列数\n",
    "print(X1) \n",
    "print(x)  \n",
    "print(X)"
   ]
  },
  {
   "cell_type": "code",
   "execution_count": 3,
   "id": "e1ac8d40",
   "metadata": {},
   "outputs": [
    {
     "name": "stdout",
     "output_type": "stream",
     "text": [
      "tensor([[[[[0., 0., 0., 0.],\n",
      "           [0., 0., 0., 0.],\n",
      "           [0., 0., 0., 0.]],\n",
      "\n",
      "          [[0., 0., 0., 0.],\n",
      "           [0., 0., 0., 0.],\n",
      "           [0., 0., 0., 0.]]],\n",
      "\n",
      "\n",
      "         [[[0., 0., 0., 0.],\n",
      "           [0., 0., 0., 0.],\n",
      "           [0., 0., 0., 0.]],\n",
      "\n",
      "          [[0., 0., 0., 0.],\n",
      "           [0., 0., 0., 0.],\n",
      "           [0., 0., 0., 0.]]]],\n",
      "\n",
      "\n",
      "\n",
      "        [[[[0., 0., 0., 0.],\n",
      "           [0., 0., 0., 0.],\n",
      "           [0., 0., 0., 0.]],\n",
      "\n",
      "          [[0., 0., 0., 0.],\n",
      "           [0., 0., 0., 0.],\n",
      "           [0., 0., 0., 0.]]],\n",
      "\n",
      "\n",
      "         [[[0., 0., 0., 0.],\n",
      "           [0., 0., 0., 0.],\n",
      "           [0., 0., 0., 0.]],\n",
      "\n",
      "          [[0., 0., 0., 0.],\n",
      "           [0., 0., 0., 0.],\n",
      "           [0., 0., 0., 0.]]]]])\n",
      "tensor([[1., 1., 1., 1.],\n",
      "        [1., 1., 1., 1.],\n",
      "        [1., 1., 1., 1.]])\n",
      "tensor([[[-0.0120, -0.9836,  1.2297, -2.1843],\n",
      "         [-0.7970,  0.2024, -0.4955, -0.7310],\n",
      "         [-0.1879, -0.2889, -0.2338, -0.3391]],\n",
      "\n",
      "        [[-1.3274, -1.8751, -0.3781,  0.6526],\n",
      "         [-0.7840, -0.1747, -0.1361,  0.3178],\n",
      "         [-0.3717, -1.2832, -0.3549,  0.2015]]])\n",
      "tensor([[2, 1, 4, 3],\n",
      "        [1, 2, 3, 4],\n",
      "        [4, 3, 2, 1]])\n"
     ]
    }
   ],
   "source": [
    "torch.zeros((2, 3, 4))\n",
    "torch.ones((2, 3, 4))\n",
    "print(torch.zeros((2,2,2,3,4))) #可以创建一个多维张量\n",
    "print(torch.ones((3, 4))) # 可以省略第一个参数，默认为1\n",
    "print(torch.randn((2, 3, 4))) # 创建一个均值为0，方差为1的正态分布张量(参数全是维度)\n",
    "print(torch.tensor([[2, 1, 4, 3], [1, 2, 3, 4], [4, 3, 2, 1]]))#这是一个3行4列的二维张量，可以把张量理解为一个多维数组即矩阵"
   ]
  },
  {
   "cell_type": "code",
   "execution_count": 4,
   "id": "71ccdb98",
   "metadata": {},
   "outputs": [
    {
     "name": "stdout",
     "output_type": "stream",
     "text": [
      "tensor([ 1.,  4., 16., 64.])\n",
      "tensor([[ 0.,  1.,  2.,  3.],\n",
      "        [ 4.,  5.,  6.,  7.],\n",
      "        [ 8.,  9., 10., 11.],\n",
      "        [ 2.,  1.,  4.,  3.],\n",
      "        [ 1.,  2.,  3.,  4.],\n",
      "        [ 4.,  3.,  2.,  1.]])\n",
      "tensor([[ 0.,  1.,  2.,  3.,  2.,  1.,  4.,  3.],\n",
      "        [ 4.,  5.,  6.,  7.,  1.,  2.,  3.,  4.],\n",
      "        [ 8.,  9., 10., 11.,  4.,  3.,  2.,  1.]])\n"
     ]
    },
    {
     "data": {
      "text/plain": [
       "tensor([[False,  True, False,  True],\n",
       "        [False, False, False, False],\n",
       "        [False, False, False, False]])"
      ]
     },
     "execution_count": 4,
     "metadata": {},
     "output_type": "execute_result"
    }
   ],
   "source": [
    "# 线性代数运算\n",
    "x = torch.tensor([1.0, 2, 4, 8])\n",
    "y = torch.tensor([2, 2, 2, 2])\n",
    "print (x ** y)  # 逐元素求幂运算\n",
    "# 张量连结运算\n",
    "X = torch.arange(12, dtype=torch.float32).reshape((3,4))\n",
    "Y = torch.tensor([[2.0, 1, 4, 3], [1, 2, 3, 4], [4, 3, 2, 1]])\n",
    "print(torch.cat((X, Y), dim=0))# dim=0表示按行连接 dim=1表示按列连接\n",
    "print(torch.cat((X, Y), dim=1))\n",
    "X == Y # 逐元素比较，返回布尔类型的张量"
   ]
  },
  {
   "cell_type": "code",
   "execution_count": null,
   "id": "108023b1",
   "metadata": {},
   "outputs": [
    {
     "name": "stdout",
     "output_type": "stream",
     "text": [
      "tensor(78.)\n",
      "tensor([[ 5.,  5.,  5.,  5.],\n",
      "        [ 5.,  5.,  5.,  5.],\n",
      "        [ 8.,  9., 10., 11.]])\n"
     ]
    },
    {
     "data": {
      "text/plain": [
       "tensor([[ 50.,  50.,  50.],\n",
       "        [ 50.,  50.,  50.],\n",
       "        [ 98., 100.,  90.]])"
      ]
     },
     "execution_count": 7,
     "metadata": {},
     "output_type": "execute_result"
    }
   ],
   "source": [
    "print(X.sum()) # 求和，对所有的元素求和会得到一个单元素张量\n",
    "X[-1]\n",
    "X[1:3]\n",
    "'''​\n",
    "​不包含索引 3​​，而是遵循 ​​“左闭右开”​​ 的规则，即：\n",
    "​包含起始索引 1​​\n",
    "​不包含结束索引 3\n",
    "'''\n",
    "'''\n",
    "索引和切片\n",
    "'''\n",
    "X[1,2]= 9  # 修改张量中指定位置的元素\n",
    "X[0:2,:] = 5 # :的意思是从什么到什么，遵循左闭右开，相当于for的起点终点\n",
    "print(X)  # 修改张量中指定行的所有元素\n",
    "torch.mm(X, Y.T)  # 矩阵乘法，Y.T表示Y的转置"
   ]
  }
 ],
 "metadata": {
  "kernelspec": {
   "display_name": "yolov8",
   "language": "python",
   "name": "python3"
  },
  "language_info": {
   "codemirror_mode": {
    "name": "ipython",
    "version": 3
   },
   "file_extension": ".py",
   "mimetype": "text/x-python",
   "name": "python",
   "nbconvert_exporter": "python",
   "pygments_lexer": "ipython3",
   "version": "3.9.19"
  }
 },
 "nbformat": 4,
 "nbformat_minor": 5
}
